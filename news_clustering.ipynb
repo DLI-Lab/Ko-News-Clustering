{
 "cells": [
  {
   "cell_type": "code",
   "execution_count": null,
   "metadata": {},
   "outputs": [],
   "source": [
    "!pip install sentence-transformers\n",
    "!pip install pandas\n",
    "!pip install scikit-learn\n",
    "!pip install matplotlib"
   ]
  },
  {
   "cell_type": "code",
   "execution_count": null,
   "metadata": {},
   "outputs": [],
   "source": [
    "from sentence_transformers import SentenceTransformer\n",
    "import pandas as pd\n",
    "import json\n",
    "from sklearn.cluster import KMeans\n",
    "from sklearn.preprocessing import LabelEncoder\n",
    "import matplotlib.pyplot as plt\n",
    "from sklearn.manifold import TSNE"
   ]
  },
  {
   "cell_type": "code",
   "execution_count": 2,
   "metadata": {},
   "outputs": [],
   "source": [
    "# load the data\n",
    "with open('./VL_span_extraction.json', 'r') as f:\n",
    "    data = json.load(f)\n",
    "\n",
    "data = data['data']"
   ]
  },
  {
   "cell_type": "code",
   "execution_count": 6,
   "metadata": {},
   "outputs": [],
   "source": [
    "# extract the labels and content\n",
    "\n",
    "label_list = []\n",
    "content_list = []\n",
    "\n",
    "for i in range(len(data)):\n",
    "    label = data[i][\"doc_class\"][\"code\"]\n",
    "    content = data[i][\"paragraphs\"][0][\"context\"]\n",
    "    label_list.append(label)\n",
    "    content_list.append(content)\n",
    "\n",
    "\n",
    "df = pd.DataFrame(list(zip(label_list, content_list)), columns =['label', 'content'])"
   ]
  },
  {
   "cell_type": "code",
   "execution_count": null,
   "metadata": {},
   "outputs": [],
   "source": [
    "# remove the rows with label \"기타\"\n",
    "df = df[df[\"label\"] != \"기타\"]\n",
    "df.reset_index(drop=True, inplace=True)\n",
    "df"
   ]
  },
  {
   "cell_type": "code",
   "execution_count": null,
   "metadata": {},
   "outputs": [],
   "source": [
    "# check the distribution of the labels\n",
    "df[\"label\"].value_counts()"
   ]
  },
  {
   "cell_type": "code",
   "execution_count": null,
   "metadata": {},
   "outputs": [],
   "source": [
    "# sample 50 rows for each label\n",
    "sampled_df = df.groupby('label').apply(lambda x: x.sample(n=50, random_state=42)).reset_index(drop=True)\n",
    "sampled_df"
   ]
  },
  {
   "cell_type": "code",
   "execution_count": 18,
   "metadata": {},
   "outputs": [],
   "source": [
    "# create label mapping dictionary\n",
    "label_mapping = {\n",
    "    'IT과학': 'IT_Science', \n",
    "    '경제': 'Economy',\n",
    "    '국제': 'International',\n",
    "    '문화': 'Culture', \n",
    "    '사회': 'Society',\n",
    "    '스포츠': 'Sports',\n",
    "    '정치': 'Politics',\n",
    "    '지역': 'Local'\n",
    "}\n",
    "\n",
    "# map Korean labels to English\n",
    "sampled_df['label'] = sampled_df['label'].map(label_mapping)\n"
   ]
  },
  {
   "cell_type": "code",
   "execution_count": null,
   "metadata": {},
   "outputs": [],
   "source": [
    "sampled_df[\"label\"].value_counts()"
   ]
  },
  {
   "cell_type": "code",
   "execution_count": null,
   "metadata": {},
   "outputs": [],
   "source": [
    "# encode the content with model\n",
    "\n",
    "model = SentenceTransformer(\"nlpai-lab/KoE5\", device='cpu')\n",
    "embeddings = model.encode(sampled_df[\"content\"].tolist(), show_progress_bar=True)\n",
    "\n"
   ]
  },
  {
   "cell_type": "code",
   "execution_count": null,
   "metadata": {},
   "outputs": [],
   "source": [
    "# check the shape of the embeddings\n",
    "# (# of samples, embedding dimension)\n",
    "embeddings.shape"
   ]
  },
  {
   "cell_type": "code",
   "execution_count": null,
   "metadata": {},
   "outputs": [],
   "source": [
    "# k-means clustering\n",
    "\n",
    "# encode labels for ground truth label comparison\n",
    "le = LabelEncoder()\n",
    "label_encoded = le.fit_transform(sampled_df[\"label\"])\n",
    "\n",
    "# perform k-means clustering\n",
    "n_clusters = len(sampled_df[\"label\"].unique())  # number of unique labels or custom number\n",
    "# n_clusters = 8 -> can set custom number of clusters\n",
    "\n",
    "kmeans = KMeans(n_clusters=n_clusters, random_state=42)\n",
    "clusters = kmeans.fit_predict(embeddings)"
   ]
  },
  {
   "cell_type": "code",
   "execution_count": null,
   "metadata": {},
   "outputs": [],
   "source": [
    "# reduce dimensionality for visualization\n",
    "tsne = TSNE(n_components=2, random_state=42, perplexity=50)\n",
    "embeddings_2d = tsne.fit_transform(embeddings)"
   ]
  },
  {
   "cell_type": "code",
   "execution_count": null,
   "metadata": {},
   "outputs": [],
   "source": [
    "# scatterplot with ground truth labels\n",
    "\n",
    "# create scatter plot\n",
    "plt.figure(figsize=(12, 8))\n",
    "scatter = plt.scatter(embeddings_2d[:, 0], embeddings_2d[:, 1], c=label_encoded, cmap='tab10')\n",
    "plt.title('News Articles Clustering')\n",
    "plt.xlabel('t-SNE dimension 1')\n",
    "plt.ylabel('t-SNE dimension 2')\n",
    "\n",
    "# add legend\n",
    "legend1 = plt.legend(scatter.legend_elements()[0], le.classes_, title=\"Categories\")\n",
    "plt.gca().add_artist(legend1)\n",
    "\n",
    "plt.show()\n"
   ]
  },
  {
   "cell_type": "code",
   "execution_count": null,
   "metadata": {},
   "outputs": [],
   "source": [
    "# scatterplot with kmeans clusters\n",
    "plt.figure(figsize=(12, 8))\n",
    "scatter = plt.scatter(embeddings_2d[:, 0], embeddings_2d[:, 1], c=clusters, cmap='tab10')\n",
    "plt.title('News Articles Clustering (K-means)')\n",
    "plt.xlabel('t-SNE dimension 1')\n",
    "plt.ylabel('t-SNE dimension 2')\n",
    "\n",
    "plt.show()\n"
   ]
  },
  {
   "cell_type": "code",
   "execution_count": null,
   "metadata": {},
   "outputs": [],
   "source": []
  }
 ],
 "metadata": {
  "kernelspec": {
   "display_name": "Python 3",
   "language": "python",
   "name": "python3"
  },
  "language_info": {
   "codemirror_mode": {
    "name": "ipython",
    "version": 3
   },
   "file_extension": ".py",
   "mimetype": "text/x-python",
   "name": "python",
   "nbconvert_exporter": "python",
   "pygments_lexer": "ipython3",
   "version": "3.10.13"
  }
 },
 "nbformat": 4,
 "nbformat_minor": 2
}
